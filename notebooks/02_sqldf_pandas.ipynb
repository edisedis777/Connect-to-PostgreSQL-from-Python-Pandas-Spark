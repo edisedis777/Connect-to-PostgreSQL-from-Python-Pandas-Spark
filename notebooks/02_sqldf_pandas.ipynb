{
 "cells": [
  {
   "cell_type": "markdown",
   "metadata": {},
   "source": [
    "# Using SQL with Pandas DataFrames\n",
    "\n",
    "This notebook demonstrates how to use SQL queries directly on Pandas DataFrames using the `pandasql` library. This approach allows you to leverage your SQL knowledge while working with Pandas DataFrames in memory.\n",
    "\n",
    "## Overview\n",
    "\n",
    "The `pandasql` library lets you query Pandas DataFrames using SQLite syntax. This is particularly useful when:\n",
    "- You're more comfortable with SQL than Pandas operations\n",
    "- You need to perform complex joins or aggregations that are more intuitive in SQL\n",
    "- You're prototyping queries that will eventually run in a database environment"
   ]
  },
  {
   "cell_type": "markdown",
   "metadata": {},
   "source": [
    "## Setup and Environment"
   ]
  },
  {
   "cell_type": "code",
   "execution_count": null,
   "metadata": {},
   "outputs": [],
   "source": [
    "# Install required libraries if not already installed\n",
    "!pip install pandas pandasql matplotlib"
   ]
  },
  {
   "cell_type": "code",
   "execution_count": null,
   "metadata": {},
   "outputs": [],
   "source": [
    "# Import necessary libraries\n",
    "import pandas as pd\n",
    "import numpy as np\n",
    "import matplotlib.pyplot as plt\n",
    "from pandasql import sqldf\n",
    "import os\n",
    "\n",
    "# Configure matplotlib for better visualization in notebook\n",
    "%matplotlib inline\n",
    "plt.style.use('ggplot')"
   ]
  },
  {
   "cell_type": "code",
   "execution_count": null,
   "metadata": {},
   "outputs": [],
   "source": [
    "# Set up a function to run SQL queries\n",
    "def run_query(q):\n",
    "    \"\"\"Execute an SQL query against pandas DataFrames\"\"\"\n",
    "    return sqldf(q, globals())"
   ]
  },
  {
   "cell_type": "markdown",
   "metadata": {},
   "source": [
    "## Loading Sample Data\n",
    "\n",
    "Let's load our sample data from the CSV file and create a few DataFrames to work with."
   ]
  },
  {
   "cell_type": "code",
   "execution_count": null,
   "metadata": {},
   "outputs": [],
   "source": [
    "# Define path to the data file\n",
    "data_path = '../data/sample_data.csv'\n",
    "\n",
    "# Check if the file exists\n",
    "if not os.path.exists(data_path):\n",
    "    # If sample_data.csv doesn't exist, create sample data\n",
    "    print(f\"Sample data file not found at {data_path}. Creating sample data instead.\")\n",
    "    \n",
    "    # Create sample sales data\n",
    "    np.random.seed(42)\n",
    "    dates = pd.date_range('2023-01-01', '2023-12-31', freq='D')\n",
    "    \n",
    "    sales_data = pd.DataFrame({\n",
    "        'date': np.random.choice(dates, 1000),\n",
    "        'product_id': np.random.randint(1, 11, 1000),\n",
    "        'quantity': np.random.randint(1, 50, 1000),\n",
    "        'unit_price': np.random.uniform(10, 1000, 1000).round(2),\n",
    "        'customer_id': np.random.randint(1, 101, 1000)\n",
    "    })\n",
    "    \n",
    "    # Calculate total price\n",
    "    sales_data['total_price'] = (sales_data['quantity'] * sales_data['unit_price']).round(2)\n",
    "    \n",
    "    # Create products data\n",
    "    products = pd.DataFrame({\n",
    "        'product_id': range(1, 11),\n",
    "        'product_name': [f'Product {i}' for i in range(1, 11)],\n",
    "        'category': np.random.choice(['Electronics', 'Clothing', 'Food', 'Books'], 10)\n",
    "    })\n",
    "    \n",
    "    # Create customers data\n",
    "    customers = pd.DataFrame({\n",
    "        'customer_id': range(1, 101),\n",
    "        'customer_name': [f'Customer {i}' for i in range(1, 101)],\n",
    "        'region': np.random.choice(['North', 'South', 'East', 'West'], 100)\n",
    "    })\n",
    "else:\n",
    "    # If the file exists, load it\n",
    "    print(f\"Loading sample data from {data_path}\")\n",
    "    sales_data = pd.read_csv(data_path)"
   ]
  },
  {
   "cell_type": "code",
   "execution_count": null,
   "metadata": {},
   "outputs": [],
   "source": [
    "# Display the first few rows of the sales data\n",
    "print(\"Sales Data Sample:\")\n",
    "sales_data.head()"
   ]
  },
  {
   "cell_type": "code",
   "execution_count": null,
   "metadata": {},
   "outputs": [],
   "source": [
    "# If we created sample data, show products and customers\n",
    "if 'products' in locals():\n",
    "    print(\"\\nProducts Sample:\")\n",
    "    display(products.head())\n",
    "    \n",
    "    print(\"\\nCustomers Sample:\")\n",
    "    display(customers.head())"
   ]
  },
  {
   "cell_type": "markdown",
   "metadata": {},
   "source": [
    "## Basic SQL Queries with PandasSQL\n",
    "\n",
    "Now, let's demonstrate how to use SQL to query our Pandas DataFrames."
   ]
  },
  {
   "cell_type": "code",
   "execution_count": null,
   "metadata": {},
   "outputs": [],
   "source": [
    "# Simple SELECT query\n",
    "query = \"\"\"\n",
    "SELECT *\n",
    "FROM sales_data\n",
    "LIMIT 5\n",
    "\"\"\"\n",
    "\n",
    "result = run_query(query)\n",
    "result"
   ]
  },
  {
   "cell_type": "code",
   "execution_count": null,
   "metadata": {},
   "outputs": [],
   "source": [
    "# Filtering data with WHERE clause\n",
    "query = \"\"\"\n",
    "SELECT *\n",
    "FROM sales_data\n",
    "WHERE quantity > 40\n",
    "ORDER BY quantity DESC\n",
    "LIMIT 10\n",
    "\"\"\"\n",
    "\n",
    "run_query(query)"
   ]
  },
  {
   "cell_type": "code",
   "execution_count": null,
   "metadata": {},
   "outputs": [],
   "source": [
    "# Aggregation with GROUP BY\n",
    "query = \"\"\"\n",
    "SELECT \n",
    "    product_id,\n",
    "    COUNT(*) as num_transactions,\n",
    "    SUM(quantity) as total_quantity,\n",
    "    SUM(total_price) as total_revenue,\n",
    "    AVG(unit_price) as avg_unit_price\n",
    "FROM sales_data\n",
    "GROUP BY product_id\n",
    "ORDER BY total_revenue DESC\n",
    "\"\"\"\n",
    "\n",
    "product_summary = run_query(query)\n",
    "product_summary"
   ]
  },
  {
   "cell_type": "markdown",
   "metadata": {},
   "source": [
    "## Date-based Analysis\n",
    "\n",
    "SQL provides powerful functions for working with dates. Let's use them to analyze our sales data by time periods."
   ]
  },
  {
   "cell_type": "code",
   "execution_count": null,
   "metadata": {},
   "outputs": [],
   "source": [
    "# Make sure date is in the correct format\n",
    "if not pd.api.types.is_datetime64_any_dtype(sales_data['date']):\n",
    "    sales_data['date'] = pd.to_datetime(sales_data['date'])"
   ]
  },
  {
   "cell_type": "code",
   "execution_count": null,
   "metadata": {},
   "outputs": [],
   "source": [
    "# Monthly sales analysis\n",
    "query = \"\"\"\n",
    "SELECT \n",
    "    strftime('%Y-%m', date) as month,\n",
    "    COUNT(*) as num_transactions,\n",
    "    SUM(total_price) as monthly_revenue\n",
    "FROM sales_data\n",
    "GROUP BY strftime('%Y-%m', date)\n",
    "ORDER BY month\n",
    "\"\"\"\n",
    "\n",
    "monthly_sales = run_query(query)\n",
    "monthly_sales"
   ]
  },
  {
   "cell_type": "code",
   "execution_count": null,
   "metadata": {},
   "outputs": [],
   "source": [
    "# Plot monthly revenue\n",
    "plt.figure(figsize=(12, 6))\n",
    "plt.bar(monthly_sales['month'], monthly_sales['monthly_revenue'])\n",
    "plt.title('Monthly Revenue')\n",
    "plt.xlabel('Month')\n",
    "plt.ylabel('Revenue')\n",
    "plt.xticks(rotation=45)\n",
    "plt.tight_layout()\n",
    "plt.show()"
   ]
  },
  {
   "cell_type": "markdown",
   "metadata": {},
   "source": [
    "## Joining DataFrames with SQL\n",
    "\n",
    "One of the strengths of SQL is the ability to join multiple tables. Let's demonstrate how to join our sales data with product and customer information."
   ]
  },
  {
   "cell_type": "code",
   "execution_count": null,
   "metadata": {},
   "outputs": [],
   "source": [
    "# If we don't have products and customers dataframes from CSV, use the ones created earlier\n",
    "# If not available, create them now\n",
    "if 'products' not in locals() and 'customers' not in locals():\n",
    "    # Create products data\n",
    "    products = pd.DataFrame({\n",
    "        'product_id': range(1, 11),\n",
    "        'product_name': [f'Product {i}' for i in range(1, 11)],\n",
    "        'category': np.random.choice(['Electronics', 'Clothing', 'Food', 'Books'], 10)\n",
    "    })\n",
    "    \n",
    "    # Create customers data\n",
    "    customers = pd.DataFrame({\n",
    "        'customer_id': range(1, 101),\n",
    "        'customer_name': [f'Customer {i}' for i in range(1, 101)],\n",
    "        'region': np.random.choice(['North', 'South', 'East', 'West'], 100)\n",
    "    })"
   ]
  },
  {
   "cell_type": "code",
   "execution_count": null,
   "metadata": {},
   "outputs": [],
   "source": [
    "# Join sales data with product information\n",
    "query = \"\"\"\n",
    "SELECT \n",
    "    s.date,\n",
    "    p.product_name,\n",
    "    p.category,\n",
    "    s.quantity,\n",
    "    s.unit_price,\n",
    "    s.total_price\n",
    "FROM sales_data s\n",
    "JOIN products p ON s.product_id = p.product_id\n",
    "LIMIT 10\n",
    "\"\"\"\n",
    "\n",
    "sales_with_products = run_query(query)\n",
    "sales_with_products"
   ]
  },
  {
   "cell_type": "code",
   "execution_count": null,
   "metadata": {},
   "outputs": [],
   "source": [
    "# Sales by product category\n",
    "query = \"\"\"\n",
    "SELECT \n",
    "    p.category,\n",
    "    COUNT(*) as num_transactions,\n",
    "    SUM(s.total_price) as total_revenue,\n",
    "    AVG(s.total_price) as avg_transaction_value\n",
    "FROM sales_data sJOIN products p ON s.product_id = p.product_id\n",
    "GROUP BY p.category\n",
    "ORDER BY total_revenue DESC\n",
    "\"\"\"\n",
    "\n",
    "category_sales = run_query(query)\n",
    "category_sales"
   ]
  },
  {
   "cell_type": "code",
   "execution_count": null,
   "metadata": {},
   "outputs": [],
   "source": [
    "# Visualize sales by category\n",
    "plt.figure(figsize=(10, 6))\n",
    "plt.bar(category_sales['category'], category_sales['total_revenue'])\n",
    "plt.title('Revenue by Product Category')\n",
    "plt.xlabel('Category')\n",
    "plt.ylabel('Total Revenue')\n",
    "plt.tight_layout()\n",
    "plt.show()"
   ]
  },
  {
   "cell_type": "code",
   "execution_count": null,
   "metadata": {},
   "outputs": [],
   "source": [
    "# Multi-table join with sales, products, and customers\n",
    "query = \"\"\"\n",
    "SELECT \n",
    "    c.region,\n",
    "    p.category,\n",
    "    COUNT(*) as num_transactions,\n",
    "    SUM(s.quantity) as total_quantity,\n",
    "    SUM(s.total_price) as total_revenue,\n",
    "    AVG(s.total_price) as avg_transaction_value\n",
    "FROM sales_data s\n",
    "JOIN products p ON s.product_id = p.product_id\n",
    "JOIN customers c ON s.customer_id = c.customer_id\n",
    "GROUP BY c.region, p.category\n",
    "ORDER BY total_revenue DESC\n",
    "\"\"\"\n",
    "\n",
    "regional_category_sales = run_query(query)\n",
    "regional_category_sales"
   ]
  },
  {
   "cell_type": "code",
   "execution_count": null,
   "metadata": {},
   "outputs": [],
   "source": [
    "# Visualize regional category sales\n",
    "plt.figure(figsize=(12, 6))\n",
    "regional_category_pivot = regional_category_sales.pivot(index='region', columns='category', values='total_revenue').fillna(0)\n",
    "regional_category_pivot.plot(kind='bar', stacked=True)\n",
    "plt.title('Revenue by Region and Category')\n",
    "plt.xlabel('Region')\n",
    "plt.ylabel('Total Revenue')\n",
    "plt.legend(title='Category')\n",
    "plt.tight_layout()\n",
    "plt.show()"
   ]
  },
  {
   "cell_type": "markdown",
   "metadata": {},
   "source": [
    "## Conclusion\n",
    "\n",
    "This notebook demonstrated how to use SQL queries with Pandas DataFrames using the pandasql library. Key points:\n",
    "\n",
    "1. **Flexibility**: We can use familiar SQL syntax to query Pandas DataFrames\n",
    "2. **Power**: Complex joins, aggregations, and date operations are straightforward\n",
    "3. **Visualization**: Results can be easily visualized using matplotlib\n",
    "4. **Prototyping**: Perfect for testing SQL queries before implementing in a database\n",
    "\n",
    "Limitations to consider:\n",
    "- Performance may not match native Pandas operations for large datasets\n",
    "- Uses SQLite syntax specifically\n",
    "- All data must fit in memory\n",
    "\n",
    "This approach bridges the gap between SQL-based database operations and Python-based data analysis, making it an excellent tool for data analysts comfortable with SQL who are working in a Python environment."
   ]
  }
 ],
 "metadata": {
  "kernelspec": {
   "display_name": "Python 3",
   "language": "python",
   "name": "python3"
  },
  "language_info": {
   "codemirror_mode": {
    "name": "ipython",
    "version": 3
   },
   "file_extension": ".py",
   "mimetype": "text/x-python",
   "name": "python",
   "nbconvert_exporter": "python",
   "pygments_lexer": "ipython3",
   "version": "3.x"
  }
 },
 "nbformat": 4,
 "nbformat_minor": 2
}
