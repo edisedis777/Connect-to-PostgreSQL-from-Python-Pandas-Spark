{
 "cells": [
  {
   "cell_type": "markdown",
   "metadata": {},
   "source": [
    "# Pandas and PostgreSQL Integration\n",
    "\n",
    "This notebook demonstrates how to:\n",
    "1. Connect to PostgreSQL using SQLAlchemy\n",
    "2. Read data from PostgreSQL into Pandas DataFrames\n",
    "3. Write Pandas DataFrames to PostgreSQL tables\n",
    "4. Perform basic SQL queries and transformations"
   ]
  },
  {
   "cell_type": "markdown",
   "metadata": {},
   "source": [
    "## Setup and Import Dependencies"
   ]
  },
  {
   "cell_type": "code",
   "execution_count": 1,
   "metadata": {},
   "outputs": [],
   "source": [
    "import os\n",
    "import pandas as pd\n",
    "import numpy as np\n",
    "from sqlalchemy import create_engine\n",
    "import matplotlib.pyplot as plt\n",
    "\n",
    "# Import the config module from the scripts directory\n",
    "import sys\n",
    "sys.path.append('../scripts')\n",
    "from config import DB_CONFIG"
   ]
  },
  {
   "cell_type": "markdown",
   "metadata": {},
   "source": [
    "## Connect to PostgreSQL"
   ]
  },
  {
   "cell_type": "code",
   "execution_count": 2,
   "metadata": {},
   "outputs": [],
   "source": [
    "# Create a connection URL\n",
    "db_url = f\"postgresql+psycopg2://{DB_CONFIG['user']}:{DB_CONFIG['password']}@{DB_CONFIG['host']}:{DB_CONFIG['port']}/{DB_CONFIG['database']}\"\n",
    "\n",
    "# Create SQLAlchemy engine\n",
    "engine = create_engine(db_url)"
   ]
  },
  {
   "cell_type": "markdown",
   "metadata": {},
   "source": [
    "## Load Sample Data"
   ]
  },
  {
   "cell_type": "code",
   "execution_count": 3,
   "metadata": {},
   "outputs": [],
   "source": [
    "# Load sample data from CSV file\n",
    "sample_data_path = '../data/sample_data.csv'\n",
    "df = pd.read_csv(sample_data_path)\n",
    "\n",
    "# Display the first few rows\n",
    "df.head()"
   ]
  },
  {
   "cell_type": "markdown",
   "metadata": {},
   "source": [
    "## Write Data to PostgreSQL"
   ]
  },
  {
   "cell_type": "code",
   "execution_count": 4,
   "metadata": {},
   "outputs": [],
   "source": [
    "# Write DataFrame to PostgreSQL table\n",
    "table_name = 'sample_data'\n",
    "df.to_sql(table_name, engine, if_exists='replace', index=False)\n",
    "\n",
    "print(f\"Data written to {table_name} table\")"
   ]
  },
  {
   "cell_type": "markdown",
   "metadata": {},
   "source": [
    "## Read Data from PostgreSQL"
   ]
  },
  {
   "cell_type": "code",
   "execution_count": 5,
   "metadata": {},
   "outputs": [],
   "source": [
    "# Read data from PostgreSQL table\n",
    "query = f\"SELECT * FROM {table_name}\"\n",
    "df_from_db = pd.read_sql(query, engine)\n",
    "\n",
    "# Display the first few rows\n",
    "df_from_db.head()"
   ]
  },
  {
   "cell_type": "markdown",
   "metadata": {},
   "source": [
    "## Perform SQL Queries"
   ]
  },
  {
   "cell_type": "code",
   "execution_count": 6,
   "metadata": {},
   "outputs": [],
   "source": [
    "# Example: Get summary statistics\n",
    "query = f\"\"\"\n",
    "SELECT \n",
    "    COUNT(*) as total_rows,\n",
    "    AVG(numeric_column) as avg_value,\n",
    "    MIN(numeric_column) as min_value,\n",
    "    MAX(numeric_column) as max_value\n",
    "FROM {table_name}\n",
    "\"\"\"\n",
    "summary_stats = pd.read_sql(query, engine)\n",
    "summary_stats"
   ]
  },
  {
   "cell_type": "markdown",
   "metadata": {},
   "source": [
    "## Using Parameters in SQL Queries"
   ]
  },
  {
   "cell_type": "code",
   "execution_count": 7,
   "metadata": {},
   "outputs": [],
   "source": [
    "# Example: Parameterized query\n",
    "def get_filtered_data(min_value, max_value):\n",
    "    query = f\"\"\"\n",
    "    SELECT *\n",
    "    FROM {table_name}\n",
    "    WHERE numeric_column BETWEEN %(min_value)s AND %(max_value)s\n",
    "    \"\"\"\n",
    "    params = {'min_value': min_value, 'max_value': max_value}\n",
    "    return pd.read_sql(query, engine, params=params)\n",
    "\n",
    "# Get data within a range\n",
    "filtered_df = get_filtered_data(10, 50)\n",
    "filtered_df.head()"
   ]
  },
  {
   "cell_type": "markdown",
   "metadata": {},
   "source": [
    "## Batch Processing"
   ]
  },
  {
   "cell_type": "code",
   "execution_count": 8,
   "metadata": {},
   "outputs": [],
   "source": [
    "# Example: Read data in chunks\n",
    "chunk_size = 1000\n",
    "chunks = []\n",
    "\n",
    "for chunk_df in pd.read_sql(f\"SELECT * FROM {table_name}\", engine, chunksize=chunk_size):\n",
    "    # Process each chunk\n",
    "    chunks.append(chunk_df)\n",
    "    \n",
    "# Combine all chunks\n",
    "full_df = pd.concat(chunks)\n",
    "print(f\"Total rows: {len(full_df)}\")"
   ]
  },
  {
   "cell_type": "markdown",
   "metadata": {},
   "source": [
    "## Data Visualization"
   ]
  },
  {
   "cell_type": "code",
   "execution_count": 9,
   "metadata": {},
   "outputs": [],
   "source": [
    "# Example: Visualize data from PostgreSQL\n",
    "query = f\"\"\"\n",
    "SELECT \n",
    "    category,\n",
    "    COUNT(*) as count\n",
    "FROM {table_name}\n",
    "GROUP BY category\n",
    "\"\"\"\n",
    "category_counts = pd.read_sql(query, engine)\n",
    "\n",
    "# Create a bar chart\n",
    "plt.figure(figsize=(10, 6))\n",
    "plt.bar(category_counts['category'], category_counts['count'])\n",
    "plt.title('Counts by Category')\n",
    "plt.xlabel('Category')\n",
    "plt.ylabel('Count')\n",
    "plt.xticks(rotation=45)\n",
    "plt.tight_layout()\n",
    "plt.show()"
   ]
  },
  {
   "cell_type": "markdown",
   "metadata": {},
   "source": [
    "## Transaction Management"
   ]
  },
  {
   "cell_type": "code",
   "execution_count": 10,
   "metadata": {},
   "outputs": [],
   "source": [
    "# Example: Using transactions\n",
    "from sqlalchemy.orm import sessionmaker\n",
    "\n",
    "Session = sessionmaker(bind=engine)\n",
    "session = Session()\n",
    "\n",
    "try:\n",
    "    # Start a transaction\n",
    "    transaction = session.begin()\n",
    "    \n",
    "    # Execute multiple operations\n",
    "    session.execute(f\"DELETE FROM {table_name} WHERE id < 10\")\n",
    "    session.execute(f\"UPDATE {table_name} SET numeric_column = numeric_column * 2 WHERE category = 'A'\")\n",
    "    \n",
    "    # Commit the transaction\n",
    "    transaction.commit()\n",
    "    print(\"Transaction committed successfully\")\n",
    "except Exception as e:\n",
    "    # Rollback the transaction on error\n",
    "    transaction.rollback()\n",
    "    print(f\"Transaction rolled back: {e}\")\n",
    "finally:\n",
    "    # Close the session\n",
    "    session.close()"
   ]
  },
  {
   "cell_type": "markdown",
   "metadata": {},
   "source": [
    "## Cleanup"
   ]
  },
  {
   "cell_type": "code",
   "execution_count": 11,
   "metadata": {},
   "outputs": [],
   "source": [
    "# Example: Drop the table\n",
    "# engine.execute(f\"DROP TABLE IF EXISTS {table_name}\")\n",
    "# print(f\"Table {table_name} dropped\")\n",
    "\n",
    "# Close the connection\n",
    "engine.dispose()\n",
    "print(\"Connection closed\")"
   ]
  }
 ],
 "metadata": {
  "kernelspec": {
   "display_name": "Python 3",
   "language": "python",
   "name": "python3"
  },
  "language_info": {
   "codemirror_mode": {
    "name": "ipython",
    "version": 3
   },
   "file_extension": ".py",
   "mimetype": "text/x-python",
   "name": "python",
   "nbconvert_exporter": "python",
   "pygments_lexer": "ipython3",
   "version": "3.8.10"
  }
 },
 "nbformat": 4,
 "nbformat_minor": 4
}
